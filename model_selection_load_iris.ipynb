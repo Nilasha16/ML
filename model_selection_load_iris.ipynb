{
 "cells": [
  {
   "cell_type": "code",
   "execution_count": 31,
   "metadata": {},
   "outputs": [
    {
     "name": "stdout",
     "output_type": "stream",
     "text": [
      "Enter test size: .1\n",
      "l1 : [0.1]\n",
      "trained output :  [2 1 1 2 2 1 0 1 1 2 0 0 2 2 0]\n",
      "actual output: [2 1 1 2 2 1 0 1 1 2 0 0 2 2 0]\n",
      "accuracy check: 1.0\n",
      "l2: [1.0]\n",
      "Enter test size: .2\n",
      "l1 : [0.1, 0.2]\n",
      "trained output :  [1 1 2 1 0 1 2 1 2 2 0 2 0 2 0 2 0 2 2 1 2 2 0 2 1 0 1 1 0 0]\n",
      "actual output: [1 1 2 1 0 1 2 1 2 2 0 2 0 2 0 2 0 2 1 1 2 2 0 2 1 0 1 1 0 0]\n",
      "accuracy check: 0.9666666666666667\n",
      "l2: [1.0, 0.9666666666666667]\n",
      "Enter test size: .3\n",
      "l1 : [0.1, 0.2, 0.3]\n",
      "trained output :  [1 2 1 1 1 0 2 0 2 1 1 0 2 0 2 0 0 0 2 2 1 2 0 1 2 1 2 1 1 1 0 2 2 2 1 1 2\n",
      " 2 2 2 1 2 2 1 2]\n",
      "actual output: [1 2 1 1 1 0 2 0 2 1 1 0 2 0 2 0 0 0 2 2 1 2 0 1 2 1 2 1 1 1 0 2 2 2 1 1 2\n",
      " 2 1 2 2 2 2 1 2]\n",
      "accuracy check: 0.9555555555555556\n",
      "l2: [1.0, 0.9666666666666667, 0.9555555555555556]\n",
      "Enter test size: .4\n",
      "l1 : [0.1, 0.2, 0.3, 0.4]\n",
      "trained output :  [1 1 2 1 2 0 1 1 1 0 0 0 2 0 2 0 0 1 1 0 1 0 0 1 1 0 2 1 0 1 2 2 0 2 2 1 1\n",
      " 0 2 1 1 2 1 1 0 0 0 0 2 1 2 2 1 0 2 0 2 0 1 2]\n",
      "actual output: [2 1 2 1 2 0 2 1 1 0 0 0 2 0 2 0 0 1 1 0 1 0 0 1 1 0 2 1 0 1 2 2 0 2 2 1 1\n",
      " 0 2 2 2 2 1 1 0 0 0 0 2 1 2 2 1 0 2 0 2 0 1 2]\n",
      "accuracy check: 0.9333333333333333\n",
      "l2: [1.0, 0.9666666666666667, 0.9555555555555556, 0.9333333333333333]\n",
      "Enter test size: .5\n",
      "l1 : [0.1, 0.2, 0.3, 0.4, 0.5]\n",
      "trained output :  [0 2 2 2 1 1 1 1 1 2 2 1 1 1 1 1 0 0 0 1 0 0 1 1 2 0 1 1 2 0 2 0 0 2 1 0 2\n",
      " 0 0 1 2 0 2 0 0 0 0 1 1 0 2 2 1 2 1 0 1 0 0 2 2 1 2 0 0 2 0 2 0 0 2 0 1 0\n",
      " 1]\n",
      "actual output: [0 2 2 2 1 1 1 1 1 2 2 1 2 1 1 1 0 0 0 2 0 0 2 1 2 0 1 1 1 0 2 0 0 2 1 0 1\n",
      " 0 0 1 2 0 2 0 0 0 0 2 1 0 2 2 1 2 1 0 1 0 0 2 2 1 2 0 0 1 0 2 0 0 2 0 1 0\n",
      " 1]\n",
      "accuracy check: 0.9066666666666666\n",
      "l2: [1.0, 0.9666666666666667, 0.9555555555555556, 0.9333333333333333, 0.9066666666666666]\n"
     ]
    },
    {
     "data": {
      "image/png": "[encoded data removed]",
      "text/plain": [
       "<Figure size 432x288 with 1 Axes>"
      ]
     },
     "metadata": {},
     "output_type": "display_data"
    }
   ],
   "source": [
    "from sklearn.datasets import load_iris\n",
    " # for splitting the test data and train data\n",
    "    \n",
    "from sklearn.model_selection import train_test_split\n",
    "    #calling decision tree\n",
    "from sklearn import tree\n",
    "    #for checking % of accuracy\n",
    "from sklearn.metrics import accuracy_score\n",
    "    #for plotting graph\n",
    "import matplotlib.pyplot as plt\n",
    "    \n",
    "    \n",
    "#print (\"----------------------------------DECISION TREE--------------------------------\")\n",
    "iris=load_iris()\n",
    "    \n",
    "l1=[]   #list to store test size\n",
    "l2=[]   # list to store accuracy %\n",
    "for i in range  (0,5):\n",
    "    p = float(input(\"Enter test size: \"))\n",
    "    l1.append(p)\n",
    "    print('l1 :', l1)\n",
    "    x,y,z,a = train_test_split(iris.data, iris.target, test_size=p)\n",
    "    \"\"\"\n",
    "    here x=train_iris(contains 90% of data)\n",
    "    y=test_iris(contains remaining 10% of data)\n",
    "    z=train_target(contains 90% of target)\n",
    "    a=test_target(contains remaining 10% of target)\"\"\"\n",
    "\n",
    "\n",
    "        #calling decision tree\n",
    "    clf=tree.DecisionTreeClassifier()\n",
    "        #now training the data and target with decision\n",
    "    trained=clf.fit(x,z)\n",
    "    output=trained.predict(y)\n",
    "    print(\"trained output : \", output)\n",
    "\n",
    "    print(\"actual output:\", a)\n",
    "\n",
    "    check_pct=accuracy_score(output,a)\n",
    "    print(\"accuracy check:\", check_pct)\n",
    "\n",
    "    l2.append(check_pct)\n",
    "    print('l2:', l2)\n",
    "    \n",
    "plt.xlabel(\"test size\")\n",
    "plt.ylabel(\"accuracy score\")\n",
    "plt.scatter(l1,l2,label='testinh')\n",
    "plt.grid(color='y')\n",
    "plt.legend()\n",
    "plt.show()\n",
    "    \n",
    "    #to make decision tree of given data\n",
    "#tree.export_graphviz(clf, out_file = \"decision_tree.dot\", max_depth=6, feature_names=iris.feature_names, class_names=iris.target_names, label='all', filled=True, node_ids=True, rounded=True)"
   ]
  },
  {
   "cell_type": "markdown",
   "metadata": {},
   "source": [
    " "
   ]
  },
  {
   "cell_type": "code",
   "execution_count": null,
   "metadata": {},
   "outputs": [],
   "source": []
  },
  {
   "cell_type": "code",
   "execution_count": null,
   "metadata": {},
   "outputs": [],
   "source": []
  },
  {
   "cell_type": "code",
   "execution_count": null,
   "metadata": {},
   "outputs": [],
   "source": []
  },
  {
   "cell_type": "code",
   "execution_count": null,
   "metadata": {},
   "outputs": [],
   "source": []
  },
  {
   "cell_type": "code",
   "execution_count": null,
   "metadata": {},
   "outputs": [],
   "source": []
  },
  {
   "cell_type": "code",
   "execution_count": null,
   "metadata": {},
   "outputs": [],
   "source": []
  },
  {
   "cell_type": "code",
   "execution_count": null,
   "metadata": {},
   "outputs": [],
   "source": []
  }
 ],
 "metadata": {
  "kernelspec": {
   "display_name": "Python 3",
   "language": "python",
   "name": "python3"
  },
  "language_info": {
   "codemirror_mode": {
    "name": "ipython",
    "version": 3
   },
   "file_extension": ".py",
   "mimetype": "text/x-python",
   "name": "python",
   "nbconvert_exporter": "python",
   "pygments_lexer": "ipython3",
   "version": "3.5.2"
  }
 },
 "nbformat": 4,
 "nbformat_minor": 2
}
