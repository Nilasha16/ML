{
 "cells": [
  {
   "cell_type": "raw",
   "metadata": {},
   "source": []
  },
  {
   "cell_type": "markdown",
   "metadata": {},
   "source": [
    "#!/usr/bin/python3\n",
    "\n",
    "from sklearn import tree\n",
    "data=[[100, \"0\"], [130, \"0\"], [135, \"1\"], [150, \"1\"]]\n",
    "\n",
    "output=[\"apple\", \"apple\", \"orange\", \"orange\"]\n",
    "\n",
    "#decision tree algo call\n",
    "algo=tree.DecisionTreeClassifier()\n",
    "\n",
    "#train data\n",
    "trained_algo=algo.fit(data, output)\n",
    "\n",
    "#now testing phase \n",
    "predict=trained_algo.predict([[100, \"0\"]])\n",
    "\n",
    "#printing output\n",
    "print(predict)"
   ]
  },
  {
   "cell_type": "code",
   "execution_count": null,
   "metadata": {},
   "outputs": [],
   "source": []
  }
 ],
 "metadata": {
  "kernelspec": {
   "display_name": "Python 3",
   "language": "python",
   "name": "python3"
  },
  "language_info": {
   "codemirror_mode": {
    "name": "ipython",
    "version": 3
   },
   "file_extension": ".py",
   "mimetype": "text/x-python",
   "name": "python",
   "nbconvert_exporter": "python",
   "pygments_lexer": "ipython3",
   "version": "3.5.2"
  }
 },
 "nbformat": 4,
 "nbformat_minor": 2
}
